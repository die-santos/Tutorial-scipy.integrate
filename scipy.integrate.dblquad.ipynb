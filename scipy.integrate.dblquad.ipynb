{
 "cells": [
  {
   "cell_type": "markdown",
   "metadata": {},
   "source": [
    "### <center>scipy.integrate.dblquad\n",
    "\n",
    "A função $\\texttt{dblquad()}$ é a opção para executar integrais duplas.\n",
    "\n",
    "$$\\int_{a}^{b} \\int_{c}^{d} f(x,y) dx dy$$\n",
    "\n"
   ]
  },
  {
   "cell_type": "markdown",
   "metadata": {},
   "source": [
    "Importanto o módulo $\\texttt{scipy.integrate}$\n",
    "\n",
    "Funções exponenciais, trigonométricas e etc, necessitam da importação do $\\texttt{numpy}$ ou $\\texttt{math}$"
   ]
  },
  {
   "cell_type": "code",
   "execution_count": 1,
   "metadata": {},
   "outputs": [],
   "source": [
    "import scipy.integrate\n",
    "import numpy as np\n",
    "import math"
   ]
  },
  {
   "cell_type": "markdown",
   "metadata": {},
   "source": [
    "Inicialmente deve-se definir a função a ser integrada, que pode ser definida pela função $\\texttt{def}$ ou $\\texttt{lambda}$.\n",
    "\n",
    "É importante definir a função em termos de duas variáveis."
   ]
  },
  {
   "cell_type": "code",
   "execution_count": 2,
   "metadata": {},
   "outputs": [],
   "source": [
    "f = lambda x,y:x*y"
   ]
  },
  {
   "cell_type": "markdown",
   "metadata": {},
   "source": [
    "A forma geral da função $\\texttt{dblquad()}$ é a seguinte:\n",
    "\n",
    "$$\\texttt{scipy.integrate.dblquad(f, a, b, c, d)}$$\n",
    "\n",
    "onde:\n",
    "\n",
    "* f = função;\n",
    "* a = início do intervalo para a primeira variável;\n",
    "* b = fim do intervalo para a primeira variável;\n",
    "* c = início do intervalo para a segunda variável;\n",
    "* d = fim do intervalo para a segunda variável;\n",
    "\n",
    "Vamos tomar como exemplo a função $f(x,y) = xy$, (já foi definida acima) que será integrada no intervalo $ x \\in [0,1]$ e $ y \\in [0,1]$."
   ]
  },
  {
   "cell_type": "code",
   "execution_count": 3,
   "metadata": {},
   "outputs": [],
   "source": [
    "r = scipy.integrate.dblquad(f,0,1,0,1)"
   ]
  },
  {
   "cell_type": "markdown",
   "metadata": {},
   "source": [
    "Exibindo o resultado."
   ]
  },
  {
   "cell_type": "code",
   "execution_count": 4,
   "metadata": {},
   "outputs": [
    {
     "name": "stdout",
     "output_type": "stream",
     "text": [
      "(0.24999999999999997, 5.539061329123429e-15)\n"
     ]
    }
   ],
   "source": [
    "print(r)"
   ]
  },
  {
   "cell_type": "markdown",
   "metadata": {},
   "source": [
    "Observe que a função $\\texttt{dblquad()}$ retorna dois valores, nos quais o primeiro número é o valor da integral e o segundo valor é a estimativa do erro absoluto no valor da integral."
   ]
  },
  {
   "cell_type": "markdown",
   "metadata": {},
   "source": [
    "##### Integrais duplas com intervalos no infinito \n",
    "\n",
    "Para o usar o infinito como intervalo basta usar o comando $\\pm \\texttt{np.inf}$"
   ]
  },
  {
   "cell_type": "markdown",
   "metadata": {},
   "source": [
    "Exemplo\n",
    "\n",
    "$$\\int_{0}^{2} \\int_{0}^{\\infty} e^{-x} dxdy$$"
   ]
  },
  {
   "cell_type": "code",
   "execution_count": 5,
   "metadata": {},
   "outputs": [
    {
     "name": "stdout",
     "output_type": "stream",
     "text": [
      "(2.0000000000000004, 5.842607314647825e-11)\n"
     ]
    }
   ],
   "source": [
    "f = lambda x,y:math.e**(-x)\n",
    "r = scipy.integrate.dblquad(f,0,2,0,np.inf)\n",
    "print(r)"
   ]
  },
  {
   "cell_type": "markdown",
   "metadata": {},
   "source": [
    "##### Integrais duplas com funções nos intervalos \n",
    "\n",
    "Para resolver integrais duplas com funções nos intervalos, basta defini-las."
   ]
  },
  {
   "cell_type": "markdown",
   "metadata": {},
   "source": [
    "Exemplo 1\n",
    "\n",
    "$$\\int_{0}^{1} \\int_{0}^{1-x} \\sqrt{y} dydx$$"
   ]
  },
  {
   "cell_type": "code",
   "execution_count": 6,
   "metadata": {},
   "outputs": [
    {
     "name": "stdout",
     "output_type": "stream",
     "text": [
      "(0.26666666666666655, 2.494310868961236e-10)\n"
     ]
    }
   ],
   "source": [
    "f = lambda x,y:math.sqrt(y)\n",
    "h = lambda x:1-x\n",
    "r = scipy.integrate.dblquad(f,0,1,0,h)\n",
    "print(r)"
   ]
  },
  {
   "cell_type": "markdown",
   "metadata": {},
   "source": [
    "Exemplo 2\n",
    "\n",
    "$$\\int_{0}^{\\frac{\\pi}{4}} \\int_{0}^{tg\\theta \\cdot sec\\theta} r^{3}cos^{2}\\theta drd\\theta$$"
   ]
  },
  {
   "cell_type": "code",
   "execution_count": 23,
   "metadata": {},
   "outputs": [
    {
     "name": "stdout",
     "output_type": "stream",
     "text": [
      "(0.04999999999999999, 1.0832706107766021e-13)\n"
     ]
    }
   ],
   "source": [
    "f = lambda r,theta:(r**3)*np.cos(theta)**2\n",
    "h = lambda theta:np.tan(theta)*(1/np.cos(theta))\n",
    "r = scipy.integrate.dblquad(f,0,np.pi/4,0,h)\n",
    "print(r)"
   ]
  },
  {
   "cell_type": "code",
   "execution_count": null,
   "metadata": {},
   "outputs": [],
   "source": []
  }
 ],
 "metadata": {
  "kernelspec": {
   "display_name": "Python 3",
   "language": "python",
   "name": "python3"
  },
  "language_info": {
   "codemirror_mode": {
    "name": "ipython",
    "version": 3
   },
   "file_extension": ".py",
   "mimetype": "text/x-python",
   "name": "python",
   "nbconvert_exporter": "python",
   "pygments_lexer": "ipython3",
   "version": "3.7.4"
  }
 },
 "nbformat": 4,
 "nbformat_minor": 2
}
