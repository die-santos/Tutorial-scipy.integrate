{
 "cells": [
  {
   "cell_type": "markdown",
   "metadata": {},
   "source": [
    "### <center>scipy.integrate.tplquad\n",
    "\n",
    "A função $\\texttt{tplquad()}$ é a opção para executar integrais triplas.\n",
    "\n",
    "$$\\int_{a}^{b} \\int_{c}^{d} \\int_{e}^{f} f(x,y,z) dx dy dz$$\n",
    "\n"
   ]
  },
  {
   "cell_type": "markdown",
   "metadata": {},
   "source": [
    "Importanto o módulo $\\texttt{scipy.integrate}$\n",
    "\n",
    "Funções exponenciais, trigonométricas e etc, necessitam da importação do $\\texttt{numpy}$ ou $\\texttt{math}$"
   ]
  },
  {
   "cell_type": "code",
   "execution_count": 5,
   "metadata": {},
   "outputs": [],
   "source": [
    "import scipy.integrate\n",
    "import numpy as np\n",
    "import math"
   ]
  },
  {
   "cell_type": "markdown",
   "metadata": {},
   "source": [
    "Inicialmente deve-se definir a função a ser integrada, que pode ser definida pela função $\\texttt{def}$ ou $\\texttt{lambda}$.\n",
    "\n",
    "É importante definir a função em termos de três variáveis."
   ]
  },
  {
   "cell_type": "code",
   "execution_count": 6,
   "metadata": {},
   "outputs": [],
   "source": [
    "f = lambda x,y,z:x*y*z"
   ]
  },
  {
   "cell_type": "markdown",
   "metadata": {},
   "source": [
    "A forma geral da função $\\texttt{tplquad()}$ é a seguinte:\n",
    "\n",
    "$$\\texttt{scipy.integrate.tplquad(f, a, b, c, d, e, f)}$$\n",
    "\n",
    "onde:\n",
    "\n",
    "* f = função;\n",
    "* a = início do intervalo para a primeira variável;\n",
    "* b = fim do intervalo para a primeira variável;\n",
    "* c = início do intervalo para a segunda variável;\n",
    "* d = fim do intervalo para a segunda variável;\n",
    "* e = início do intervalo para a terceira variável;\n",
    "* f = fim do intervalo para a terceira variável;\n",
    "\n",
    "Vamos tomar como exemplo a função $f(x,y,z) = xyz$, (já foi definida acima) que será integrada no intervalo $ x \\in [0,1]$, $ y \\in [0,1]$ e $ z \\in [0,1]$."
   ]
  },
  {
   "cell_type": "code",
   "execution_count": 7,
   "metadata": {},
   "outputs": [],
   "source": [
    "r = scipy.integrate.tplquad(f,0,1,0,1,0,1)"
   ]
  },
  {
   "cell_type": "markdown",
   "metadata": {},
   "source": [
    "Exibindo o resultado."
   ]
  },
  {
   "cell_type": "code",
   "execution_count": 8,
   "metadata": {},
   "outputs": [
    {
     "name": "stdout",
     "output_type": "stream",
     "text": [
      "(0.12499999999999999, 5.527033708952211e-15)\n"
     ]
    }
   ],
   "source": [
    "print(r)"
   ]
  },
  {
   "cell_type": "markdown",
   "metadata": {},
   "source": [
    "Observe que a função $\\texttt{tplquad()}$ retorna dois valores, nos quais o primeiro número é o valor da integral e o segundo valor é a estimativa do erro absoluto no valor da integral."
   ]
  },
  {
   "cell_type": "markdown",
   "metadata": {},
   "source": [
    "##### Integrais triplas com intervalos no infinito \n",
    "\n",
    "Para o usar o infinito como intervalo basta usar o comando $\\pm \\texttt{np.inf}$"
   ]
  },
  {
   "cell_type": "markdown",
   "metadata": {},
   "source": [
    "##### Integrais triplas com funções nos intervalos \n",
    "\n",
    "Para resolver integrais triplas com funções nos intervalos, basta defini-las."
   ]
  },
  {
   "cell_type": "markdown",
   "metadata": {},
   "source": [
    "Exemplo 1\n",
    "\n",
    "$$\\int_{0}^{1} \\int_{0}^{1-x} \\int_{0}^{\\sqrt{y}}  dzdydx$$"
   ]
  },
  {
   "cell_type": "code",
   "execution_count": 49,
   "metadata": {},
   "outputs": [
    {
     "name": "stdout",
     "output_type": "stream",
     "text": [
      "(0.26666666661046345, 1.076155021770988e-08)\n"
     ]
    }
   ],
   "source": [
    "f = lambda z,y,x:1\n",
    "h = lambda x:1-x\n",
    "g = lambda x,y:math.sqrt(y)\n",
    "r = scipy.integrate.tplquad(f,0,1,0,h,0,g)\n",
    "print(r)"
   ]
  },
  {
   "cell_type": "markdown",
   "metadata": {},
   "source": [
    "Exemplo 2\n",
    "\n",
    "$$\\int_{-1}^{1}\\int_{0}^{1}\\int_{0}^{\\pi} y\\cdot sin(x)+z\\cdot cos(x) \\ dx dy dz$$"
   ]
  },
  {
   "cell_type": "code",
   "execution_count": 48,
   "metadata": {},
   "outputs": [
    {
     "name": "stdout",
     "output_type": "stream",
     "text": [
      "(1.9999999999999998, 2.2204460492503128e-14)\n"
     ]
    }
   ],
   "source": [
    "f = lambda z,y,x:y*np.sin(x)+z*np.cos(x)\n",
    "p = lambda x:0\n",
    "g = lambda x:1\n",
    "h = lambda x,y:-1\n",
    "i = lambda x,y:1\n",
    "r = scipy.integrate.tplquad(f,0,np.pi,p,g,h,i)\n",
    "print(r)"
   ]
  },
  {
   "cell_type": "code",
   "execution_count": null,
   "metadata": {},
   "outputs": [],
   "source": []
  }
 ],
 "metadata": {
  "kernelspec": {
   "display_name": "Python 3",
   "language": "python",
   "name": "python3"
  },
  "language_info": {
   "codemirror_mode": {
    "name": "ipython",
    "version": 3
   },
   "file_extension": ".py",
   "mimetype": "text/x-python",
   "name": "python",
   "nbconvert_exporter": "python",
   "pygments_lexer": "ipython3",
   "version": "3.7.4"
  }
 },
 "nbformat": 4,
 "nbformat_minor": 2
}
