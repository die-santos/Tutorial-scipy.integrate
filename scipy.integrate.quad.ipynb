{
 "cells": [
  {
   "cell_type": "markdown",
   "metadata": {},
   "source": [
    "### <center>scipy.integrate.quad\n",
    "\n",
    "A função $\\texttt{quad()}$ é a opção para executar integrais cujas funções possuem apenas uma variável, em um determinado intevalo $[a,b]$.\n",
    "\n",
    "$$\\int_{a}^{b} f(x) dx$$\n",
    "\n"
   ]
  },
  {
   "cell_type": "markdown",
   "metadata": {},
   "source": [
    "Importanto o módulo $\\texttt{scipy.integrate}$\n",
    "\n",
    "Funções exponenciais, trigonométricas e etc, necessitam da importação do $\\texttt{numpy}$ ou $\\texttt{math}$\n"
   ]
  },
  {
   "cell_type": "code",
   "execution_count": 1,
   "metadata": {},
   "outputs": [],
   "source": [
    "import scipy.integrate\n",
    "import numpy as np\n",
    "import math"
   ]
  },
  {
   "cell_type": "markdown",
   "metadata": {},
   "source": [
    "Inicialmente deve-se definir a função a ser integrada, que pode ser definida pela função $\\texttt{def}$ ou $\\texttt{lambda}$."
   ]
  },
  {
   "cell_type": "code",
   "execution_count": 2,
   "metadata": {},
   "outputs": [],
   "source": [
    "f = lambda x:x**2"
   ]
  },
  {
   "cell_type": "markdown",
   "metadata": {},
   "source": [
    "A forma geral da função $\\texttt{quad()}$ é a seguinte:\n",
    "\n",
    "$$\\texttt{scipy.integrate.quad(f, a, b)}$$\n",
    "\n",
    "onde:\n",
    "\n",
    "* f = função;\n",
    "* a = início do intervalo;\n",
    "* b = fim do intervalo.\n",
    "\n",
    "Vamos tomar como exemplo a função $f(x) = x^2$, (já foi definida acima) que será integrada no intervalo $[0,1]$."
   ]
  },
  {
   "cell_type": "code",
   "execution_count": 3,
   "metadata": {},
   "outputs": [],
   "source": [
    "r = scipy.integrate.quad(f,0,1)"
   ]
  },
  {
   "cell_type": "markdown",
   "metadata": {},
   "source": [
    "Exibindo o resultado."
   ]
  },
  {
   "cell_type": "code",
   "execution_count": 4,
   "metadata": {},
   "outputs": [
    {
     "name": "stdout",
     "output_type": "stream",
     "text": [
      "(0.33333333333333337, 3.700743415417189e-15)\n"
     ]
    }
   ],
   "source": [
    "print(r)"
   ]
  },
  {
   "cell_type": "markdown",
   "metadata": {},
   "source": [
    "Observe que a função $\\texttt{quad()}$ retorna dois valores, nos quais o primeiro número é o valor da integral e o segundo valor é a estimativa do erro absoluto no valor da integral."
   ]
  },
  {
   "cell_type": "markdown",
   "metadata": {},
   "source": [
    "##### Integrais com intervalos no infinito \n",
    "\n",
    "Para o usar o infinito como intervalo basta usar o comando $\\pm \\texttt{np.inf}$"
   ]
  },
  {
   "cell_type": "markdown",
   "metadata": {},
   "source": [
    "Exemplo 1\n",
    "\n",
    "$$\\int_{0}^{\\infty} e^{-x} dx$$"
   ]
  },
  {
   "cell_type": "code",
   "execution_count": 5,
   "metadata": {},
   "outputs": [
    {
     "name": "stdout",
     "output_type": "stream",
     "text": [
      "(1.0000000000000002, 5.842607314647825e-11)\n"
     ]
    }
   ],
   "source": [
    "f = lambda x:math.e**(-x)\n",
    "r = scipy.integrate.quad(f,0,np.inf)\n",
    "print(r)"
   ]
  },
  {
   "cell_type": "markdown",
   "metadata": {},
   "source": [
    "Para esta integral usou o módulo $\\texttt{math}$ para chamar a constante de Euler ($e$)."
   ]
  },
  {
   "cell_type": "markdown",
   "metadata": {},
   "source": [
    "Exemplo 2\n",
    "\n",
    "$$\\int_{0}^{\\infty} \\frac{1}{x} dx$$"
   ]
  },
  {
   "cell_type": "code",
   "execution_count": 6,
   "metadata": {},
   "outputs": [
    {
     "name": "stdout",
     "output_type": "stream",
     "text": [
      "(48.720960971461565, 16.301670630493938)\n"
     ]
    },
    {
     "name": "stderr",
     "output_type": "stream",
     "text": [
      "C:\\Users\\Diego\\Anaconda3\\lib\\site-packages\\ipykernel_launcher.py:2: IntegrationWarning: The maximum number of subdivisions (50) has been achieved.\n",
      "  If increasing the limit yields no improvement it is advised to analyze \n",
      "  the integrand in order to determine the difficulties.  If the position of a \n",
      "  local difficulty can be determined (singularity, discontinuity) one will \n",
      "  probably gain from splitting up the interval and calling the integrator \n",
      "  on the subranges.  Perhaps a special-purpose integrator should be used.\n",
      "  \n"
     ]
    }
   ],
   "source": [
    "f = lambda x:1/x\n",
    "r = scipy.integrate.quad(f,0,np.inf)\n",
    "print(r)"
   ]
  },
  {
   "cell_type": "markdown",
   "metadata": {},
   "source": [
    "Observe que no caso acima se fez necessário a utilização do módulo $\\texttt{numpy}$ e um aviso aparece abaixo do resultado, isto significa que para essa integral ser calculada nesse intervalo é recomendado o uso de outro módulo ou função."
   ]
  },
  {
   "cell_type": "markdown",
   "metadata": {},
   "source": [
    "### <center>Exemplos"
   ]
  },
  {
   "cell_type": "markdown",
   "metadata": {},
   "source": [
    "1) $\\int_{1}^{4} (3x^2 + 5) dx$"
   ]
  },
  {
   "cell_type": "code",
   "execution_count": 7,
   "metadata": {},
   "outputs": [
    {
     "name": "stdout",
     "output_type": "stream",
     "text": [
      "(77.99999999999999, 8.659739592076219e-13)\n"
     ]
    }
   ],
   "source": [
    "f = lambda x:3*x**2 + 5\n",
    "r = scipy.integrate.quad(f,1,4)\n",
    "print(r)"
   ]
  },
  {
   "cell_type": "markdown",
   "metadata": {},
   "source": [
    "2) $\\int_{0}^{4} \\sqrt{2x+1} dx$"
   ]
  },
  {
   "cell_type": "code",
   "execution_count": 8,
   "metadata": {},
   "outputs": [
    {
     "name": "stdout",
     "output_type": "stream",
     "text": [
      "(8.666666666666615, 8.36738742358535e-09)\n"
     ]
    }
   ],
   "source": [
    "f = lambda x:math.sqrt(2*x+1)\n",
    "r = scipy.integrate.quad(f,0,4)\n",
    "print(r)"
   ]
  },
  {
   "cell_type": "markdown",
   "metadata": {},
   "source": [
    "3) $\\int_{0}^{2\\pi} sen(2x) dx$"
   ]
  },
  {
   "cell_type": "code",
   "execution_count": 9,
   "metadata": {},
   "outputs": [
    {
     "name": "stdout",
     "output_type": "stream",
     "text": [
      "(-1.0280651972354427e-16, 4.4205541621600365e-14)\n"
     ]
    }
   ],
   "source": [
    "f = lambda x:math.sin(2*x)\n",
    "r = scipy.integrate.quad(f,0,2*math.pi)\n",
    "print(r)"
   ]
  },
  {
   "cell_type": "code",
   "execution_count": null,
   "metadata": {},
   "outputs": [],
   "source": []
  }
 ],
 "metadata": {
  "kernelspec": {
   "display_name": "Python 3",
   "language": "python",
   "name": "python3"
  },
  "language_info": {
   "codemirror_mode": {
    "name": "ipython",
    "version": 3
   },
   "file_extension": ".py",
   "mimetype": "text/x-python",
   "name": "python",
   "nbconvert_exporter": "python",
   "pygments_lexer": "ipython3",
   "version": "3.7.4"
  }
 },
 "nbformat": 4,
 "nbformat_minor": 2
}
